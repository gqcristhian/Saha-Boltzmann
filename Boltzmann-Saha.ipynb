{
 "cells": [
  {
   "cell_type": "code",
   "execution_count": 62,
   "metadata": {},
   "outputs": [],
   "source": [
    "from sympy.solvers import solve\n",
    "from sympy import Symbol\n",
    "import matplotlib\n",
    "from matplotlib import pyplot as plt\n",
    "import numpy as np"
   ]
  },
  {
   "cell_type": "markdown",
   "metadata": {},
   "source": [
    "# Setting fundamental constant values. \n",
    "## Our test-cosmology is given by h=0.7, $\\Omega_b=0.05$, $\\Omega_c=0.25$, $\\Omega_\\Lambda=0.70$."
   ]
  },
  {
   "cell_type": "code",
   "execution_count": 212,
   "metadata": {},
   "outputs": [],
   "source": [
    "# conversion factor\n",
    "cf=6.242e+18 # 1J to eV\n",
    "\n",
    "# Fundamental constants\n",
    "m_e = 9.10938e-31 #kg\n",
    "c = 3*10**8 #m/s\n",
    "E_e = m_e * c ** 2 * cf # in eV\n",
    "pi = 3.14159265359\n",
    "k_B = 1.38064852*10**(-23) # J/K\n",
    "epsilon_0 = 13.6 # eV\n",
    "epsilon_0_J = 13.6/cf # eV\n",
    "T_CMB = 2.725 # K\n",
    "alpha = 1/137 # fine-structure constant\n",
    "hbar = 6.626070150*10**(-34)/2/pi # J*s\n",
    "E_CMB = k_B * T_CMB # thermal energy of CMB today\n",
    "H_0 = 70 # Hubble constant (km/s/Mpc)\n",
    "Mpc = 3.086e+19 # Mpc to km\n",
    "H_0_units = H_0/Mpc\n",
    "omega_b=0.05\n",
    "omega_c=0.25\n",
    "omega_l=0.70"
   ]
  },
  {
   "cell_type": "markdown",
   "metadata": {},
   "source": [
    "# Solving for $X_e$ coming from Saha equation"
   ]
  },
  {
   "cell_type": "code",
   "execution_count": 101,
   "metadata": {},
   "outputs": [],
   "source": [
    "X = Symbol('X_e', positive=True)\n",
    "kT=np.arange(0.1,0.5,0.005)\n",
    "length=int((0.5-0.1)/0.005)\n",
    "X_e_saha=np.empty(0)\n",
    "index=0\n",
    "for i in kT:\n",
    "    result=np.array(solve(X*X/(1-X) - 10**9 * (E_e/(2*pi*i))**(3/2) * np.exp(-epsilon_0/i), X))\n",
    "    X_e_saha = np.append(X_e_saha, result, axis=0)"
   ]
  },
  {
   "cell_type": "markdown",
   "metadata": {},
   "source": [
    "# Solving for $X_e$ coming from Boltzmann equation"
   ]
  },
  {
   "cell_type": "code",
   "execution_count": 213,
   "metadata": {},
   "outputs": [],
   "source": [
    "from scipy.integrate import odeint\n",
    "\n",
    "constants = 9.78*alpha**2*(hbar**2 / (m_e**2 * c))\n",
    "etab = 2.75*10**(-8)*omega_b*(0.7)**2\n",
    "\n",
    "# function that returns dy/dt\n",
    "def model(y,z): # y is X_e\n",
    "    dydz = - constants*(epsilon_0_J/E_CMB/(1+z))**(1/2)*np.log(epsilon_0_J/E_CMB/(1+z)) * ((1-y)*(m_e*E_CMB*(1+z)/(2*pi*hbar**2))**(3/2)* np.exp(-epsilon_0_J/(E_CMB*(1+z))) - y**2 *2*etab*(E_CMB*(1+z))**3/(pi**2*hbar**3*c**3) )/(1+z)/(np.sqrt((omega_b+omega_c)*(1+z)**3+omega_l)*H_0_units)\n",
    "    return dydz\n",
    "\n",
    "# initial condition\n",
    "y0 = 1\n",
    "#y02=1\n",
    "\n",
    "# time points\n",
    "z = np.linspace(2500,500) # 2500 because at very high redshift we expect X_e=1\n",
    "z0 = np.linspace(500,1800) # actual redshift array for plotting\n",
    "#z2 = np.linspace(1800,500)\n",
    "\n",
    "# solve ODE\n",
    "y = odeint(model,y0,z)\n",
    "X_e_boltzmann=y\n",
    "\n",
    "# converting our redshift array into a thermal energy array (just for plots comparison)\n",
    "kT_2 = E_CMB * (1+z)\n",
    "# converting from Joules to electron-volts\n",
    "kT_2 = kT_2*cf"
   ]
  },
  {
   "cell_type": "markdown",
   "metadata": {},
   "source": [
    "# Comparing both solutions by plotting"
   ]
  },
  {
   "cell_type": "code",
   "execution_count": 217,
   "metadata": {},
   "outputs": [
    {
     "data": {
      "image/png": "[encoded data removed]",
      "text/plain": [
       "<Figure size 720x360 with 2 Axes>"
      ]
     },
     "metadata": {
      "needs_background": "light"
     },
     "output_type": "display_data"
    }
   ],
   "source": [
    "fig = plt.figure(figsize=(10,5))\n",
    "\n",
    "ax1 = fig.add_subplot(111)\n",
    "ax2 = ax1.twiny()\n",
    "\n",
    "l1=ax1.semilogy(kT, X_e_saha, color='k')\n",
    "l2=ax2.semilogy(kT_2, X_e_boltzmann, color='b')\n",
    "\n",
    "ax2.set_xlim(0.1,0.5)\n",
    "ax2.set_ylim(0.0001,2)\n",
    "ax1.set_xlabel('$k_B T$',fontsize=20)\n",
    "ax1.set_ylabel('$X_e$',fontsize=20)\n",
    "\n",
    "new_tick_locations = np.array([0.1, .15, 0.2, 0.25, 0.3, 0.35, 0.4, 0.45, 0.5])\n",
    "\n",
    "def tick_function(X):\n",
    "    V = X/E_CMB/cf -1\n",
    "    return [\"%.1f\" % z for z in V]\n",
    "\n",
    "ax2.set_xlim(ax1.get_xlim())\n",
    "ax2.set_xticks(new_tick_locations)\n",
    "ax2.set_xticklabels(tick_function(new_tick_locations))\n",
    "ax2.set_xlabel('$z$',fontsize=20)\n",
    "\n",
    "plt.text(0.4, 0.01,\"Saha\", fontsize=20, color='k')\n",
    "plt.text(0.4, 0.002,\"Boltzmann\", fontsize=20, color='b')\n",
    "\n",
    "plt.vlines(x=0.37, ymin=0, ymax=2, colors='r', linestyles='--', lw=2) #horizontal line for 1e-3\n",
    "\n",
    "plt.savefig(\"Saha-Boltzmann_DE.pdf\", dpi=300, bbox_inches='tight')"
   ]
  },
  {
   "cell_type": "code",
   "execution_count": null,
   "metadata": {},
   "outputs": [],
   "source": []
  }
 ],
 "metadata": {
  "kernelspec": {
   "display_name": "Python 3",
   "language": "python",
   "name": "python3"
  },
  "language_info": {
   "codemirror_mode": {
    "name": "ipython",
    "version": 3
   },
   "file_extension": ".py",
   "mimetype": "text/x-python",
   "name": "python",
   "nbconvert_exporter": "python",
   "pygments_lexer": "ipython3",
   "version": "3.6.9"
  }
 },
 "nbformat": 4,
 "nbformat_minor": 2
}
